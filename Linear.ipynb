{
  "cells": [
    {
      "cell_type": "markdown",
      "metadata": {
        "id": "view-in-github",
        "colab_type": "text"
      },
      "source": [
        "<a href=\"https://colab.research.google.com/github/Nivedhidha-I/Linear_Regression/blob/main/Linear.ipynb\" target=\"_parent\"><img src=\"https://colab.research.google.com/assets/colab-badge.svg\" alt=\"Open In Colab\"/></a>"
      ]
    },
    {
      "cell_type": "markdown",
      "metadata": {
        "id": "FS3CA-BOjftQ"
      },
      "source": [
        "# Simple Linear Regression Model (Recreation)"
      ]
    },
    {
      "cell_type": "markdown",
      "metadata": {
        "id": "N4k_ictXjftY"
      },
      "source": [
        "`Simple linear regression is a type of regression model used to analyse the linear relationship between one independent and one dependent numeric variables. The dependent variable can be predicted using the independent variable as an input through the formed model.`"
      ]
    },
    {
      "cell_type": "markdown",
      "metadata": {
        "id": "8MPd2G4hjftY"
      },
      "source": [
        "## Process to follow:\n",
        "1. Import the required libraries\n",
        "2. Creation of Machine Learning Model\n",
        "3. Importing the dataset into the environment\n",
        "4. Preprocessing the dataset\n",
        "5. Data Analysis\n",
        "6. Fitting of Dataset different ways by changing the parameters\n",
        "7. Prediction and showing difference of accuracy"
      ]
    },
    {
      "cell_type": "markdown",
      "metadata": {
        "id": "XB820RxVjftZ"
      },
      "source": [
        "### Importing the required libraries"
      ]
    },
    {
      "cell_type": "code",
      "execution_count": null,
      "metadata": {
        "id": "42nevAiHjftZ"
      },
      "outputs": [],
      "source": [
        "# for handling the dataset\n",
        "import numpy as np\n",
        "import pandas as pd\n",
        "# for data visualization purpose\n",
        "import matplotlib.pyplot as plt\n",
        "# for splitting of data into train and test\n",
        "from sklearn.model_selection import train_test_split\n",
        "# for checking accuracy score\n",
        "from sklearn.metrics import r2_score"
      ]
    },
    {
      "cell_type": "markdown",
      "metadata": {
        "id": "7gu13NmSjfta"
      },
      "source": [
        "### Creation of Machine Learning Model"
      ]
    },
    {
      "cell_type": "code",
      "execution_count": null,
      "metadata": {
        "id": "BB5Vk-Ydjfta"
      },
      "outputs": [],
      "source": [
        "class LinearRegression:\n",
        "    # constructor function - to set parameters on how we want the linear regression model to work\n",
        "    def __init__(self, scale = \"none\", update = False, no_intercept = False):\n",
        "        self.__X = np.array([])\n",
        "        self.__Y = np.array([])\n",
        "        self.__scale = scale\n",
        "        self.__update = update\n",
        "        self.__no_intercept = no_intercept\n",
        "        self.M = 0\n",
        "        self.C = 0\n",
        "\n",
        "    # scaling function - uses two different methods based on given parameter by used\n",
        "    def __scaling(self):\n",
        "        # normal - min_max scaling method or normalization\n",
        "        if self.__scale == \"normal\":\n",
        "            maxX = max(self.__X)\n",
        "            minX = min(self.__X)\n",
        "            for i in range(len(self.__X)):\n",
        "                self.__X[i] = (self.__X[i] - minX) / (maxX - minX)\n",
        "\n",
        "        # standard - z_score method or standardization\n",
        "        elif self.__scale == \"standard\":\n",
        "            mean = np.mean(self.__X)\n",
        "            sd = (sum([((x - mean) ** 2) for x in self.__X]) / len(self.__X)) ** 0.5\n",
        "            for i in range(len(self.__X)):\n",
        "                self.__X[i] = (self.__X[i] - mean) / sd\n",
        "\n",
        "    # fit function - gets input of X and Y list and finds m and c for the line\n",
        "    def fit(self, X, Y):\n",
        "        # storing a copy of the data points\n",
        "        self.__X = np.array(X)\n",
        "        self.__Y = np.array(Y)\n",
        "        # calling scaling function if scaling required\n",
        "        if(self.__scale) != \"none\":\n",
        "            self.__scaling()\n",
        "        # fitting the dataset into a model i.e. finding the value for M and C\n",
        "        sX2 = np.sum(np.power(self.__X, 2))\n",
        "        sXY = np.sum(np.multiply(self.__X, self.__Y))\n",
        "        # if parameter says to exclude intercept value for calculation\n",
        "        if self.__no_intercept:\n",
        "            self.C = 0\n",
        "            self.M = sXY / sX2\n",
        "        # if parameter says to include intercept value for calculation\n",
        "        else:\n",
        "            sX = np.sum(self.__X)\n",
        "            sY = np.sum(self.__Y)\n",
        "            self.C = (sX * sXY - sX2 * sY) / (sX * sX - sX2 * len(self.__X))\n",
        "            self.M = (sY - len(self.__X) * self.C) / sX\n",
        "\n",
        "    # predict function - gets an one dimentional array as input and returns respective y values\n",
        "    def predict(self, x_pred):\n",
        "        y_pred = []\n",
        "        for x in x_pred:\n",
        "            y_pred.append(self.C + (self.M * float(x)))\n",
        "        # if parameter says to update the M and C values based on new predictions\n",
        "        if self.__update:\n",
        "            self.__X = np.append(self.__X, x_pred)\n",
        "            self.__Y = np.append(self.__Y, y_pred)\n",
        "            self.fit(self.__X, self.__Y)\n",
        "        return y_pred\n",
        "\n",
        "    # cov function - finds the covariance between the two variables X and Y\n",
        "    def __cov(self):\n",
        "        x_ = np.mean(self.__X)\n",
        "        y_ = np.mean(self.__Y)\n",
        "        cov = np.mean(np.multiply(np.subtract(self.__X, x_), np.subtract(self.__Y, y_)))\n",
        "        return cov\n",
        "\n",
        "    # R2 function - finds the R-squared value of the model\n",
        "    def __R2(self):\n",
        "        sse, sst = 0, 0\n",
        "        y_pred = np.array(self.predict(self.__X))\n",
        "        y_ = np.mean(self.__Y)\n",
        "        sse = np.sum(np.power(np.subtract(self.__Y, y_pred), 2))\n",
        "        sst = np.sum(np.power(np.subtract(self.__Y, y_), 2))\n",
        "        R2 = 1 - (sse / sst)\n",
        "        return R2\n",
        "\n",
        "    # RMSE function - finds the RMSE value of the model\n",
        "    def __RMSE(self):\n",
        "        y_pred = np.array(self.predict(self.__X))\n",
        "        RMSE = np.mean(np.power(np.subtract(self.__Y, y_pred), 2)) ** 0.5\n",
        "        return RMSE\n",
        "\n",
        "    # pearson_coefficient function - finds the Pearson correlation coefficient value\n",
        "    def __pearson(self):\n",
        "        x_ = np.mean(self.__X)\n",
        "        y_ = np.mean(self.__Y)\n",
        "        num = np.sum(np.multiply(np.subtract(self.__X, x_), np.subtract(self.__Y, y_)))\n",
        "        den = (np.sum(np.power(np.subtract(self.__X, x_), 2)) * np.sum(np.power(np.subtract(self.__Y, y_), 2))) ** 0.5\n",
        "        r = num / den\n",
        "        return r\n",
        "\n",
        "    # accuracy function - prints all the different accuracy scores for the model\n",
        "    def accuracy(self):\n",
        "        print(\"Covariance value of Model: \")\n",
        "        print(str(self.__cov()))\n",
        "        print(\"R-squared value of Model: \")\n",
        "        print(str(self.__R2()))\n",
        "        print(\"RMSE value of Model: \")\n",
        "        print(str(self.__RMSE()))\n",
        "        print(\"Pearson coefficient value of Model: \")\n",
        "        print(str(self.__pearson()))\n",
        "\n",
        "    # plot function - shows a visual representation for our model\n",
        "    def plot(self):\n",
        "        y_pred = self.predict(self.__X)\n",
        "        # scatter plot for actual X and Y\n",
        "        plt.scatter(self.__X, self.__Y)\n",
        "        # line graph for X and y_pred\n",
        "        plt.plot(self.__X, y_pred, color='red')\n",
        "        plt.show()\n",
        "\n",
        "    # summary function - shows a detailed summary of the model\n",
        "    def summary(self):\n",
        "        print(\"The options chosen for the model are: \")\n",
        "        print(\"Scaling Type: \" + str(self.__scale))\n",
        "        print(\"Updation Process: \" + str(self.__update))\n",
        "        print(\"Excluding Intercept: \" + str(self.__no_intercept))\n",
        "        print(\"\\nModel Equation:\")\n",
        "        print(\"y = \" + str(self.M) + \" x + \" + str(self.C))\n",
        "        print(\"\\nAccuracy Scores: \")\n",
        "        self.accuracy()\n",
        "        print(\"\\nGraphical Representation of Model: \")\n",
        "        self.plot()"
      ]
    },
    {
      "cell_type": "markdown",
      "metadata": {
        "id": "ZLC-hXIgjfta"
      },
      "source": [
        "### Importing the dataset into the environment"
      ]
    },
    {
      "cell_type": "code",
      "execution_count": null,
      "metadata": {
        "id": "vpYNo8gTjfta"
      },
      "outputs": [],
      "source": [
        "# importing the datasets and combining together\n",
        "train_data = pd.read_csv(\"train.csv\").iloc[:, 22:24]\n",
        "test_data = pd.read_csv(\"test.csv\").iloc[:, 22:24]\n",
        "data = train_data.append(test_data)"
      ]
    },
    {
      "cell_type": "markdown",
      "metadata": {
        "id": "plQpu9xxjftb"
      },
      "source": [
        "### Preprocessing the dataset"
      ]
    },
    {
      "cell_type": "code",
      "execution_count": null,
      "metadata": {
        "id": "dvY46XKNjftb",
        "outputId": "2f9806b0-9df8-407a-8677-cc1641f16750"
      },
      "outputs": [
        {
          "name": "stdout",
          "output_type": "stream",
          "text": [
            "No of rows having Null Values(Before Removing): \n",
            " Departure Delay in Minutes      0\n",
            "Arrival Delay in Minutes      393\n",
            "dtype: int64\n",
            "No of rows having Null Values(Before Removing): \n",
            " Departure Delay in Minutes    0\n",
            "Arrival Delay in Minutes      0\n",
            "dtype: int64\n"
          ]
        }
      ],
      "source": [
        "# checking for NA values\n",
        "print(\"No of rows having Null Values(Before Removing): \\n\", data.isnull().sum())\n",
        "# handling NA values by dropping the rows\n",
        "data = data.dropna()\n",
        "print(\"No of rows having Null Values(Before Removing): \\n\", data.isnull().sum())\n",
        "# splitting the dataset into independent and dependent variables\n",
        "X = data.iloc[:, 0]\n",
        "Y = data.iloc[:, 1]"
      ]
    },
    {
      "cell_type": "markdown",
      "metadata": {
        "id": "nggbqTMkjftb"
      },
      "source": [
        "### Data Analysis"
      ]
    },
    {
      "cell_type": "code",
      "execution_count": null,
      "metadata": {
        "scrolled": false,
        "id": "tlbPGD4jjftb",
        "outputId": "33c08366-4c73-48be-92b2-31e1f377c500"
      },
      "outputs": [
        {
          "data": {
            "image/png": "[encoded data removed]",
            "text/plain": [
              "<Figure size 432x288 with 2 Axes>"
            ]
          },
          "metadata": {
            "needs_background": "light"
          },
          "output_type": "display_data"
        }
      ],
      "source": [
        "# histogram graph\n",
        "fig, axes = plt.subplots(2, 1)\n",
        "X.hist(bins = 100, ax = axes[0])\n",
        "Y.hist(bins = 100, ax = axes[1])\n",
        "plt.show()"
      ]
    },
    {
      "cell_type": "markdown",
      "metadata": {
        "id": "Q5_UluQSjftc"
      },
      "source": [
        "Most of the data points fall near 0. Hence the data is right skewed and doesn't follow normal distribution."
      ]
    },
    {
      "cell_type": "code",
      "execution_count": null,
      "metadata": {
        "scrolled": false,
        "id": "soWkGfLQjftc",
        "outputId": "3d1db997-78f5-45dd-b7a6-c95391572564"
      },
      "outputs": [
        {
          "data": {
            "image/png": "[encoded data removed]",
            "text/plain": [
              "<Figure size 432x288 with 1 Axes>"
            ]
          },
          "metadata": {
            "needs_background": "light"
          },
          "output_type": "display_data"
        }
      ],
      "source": [
        "# scatter plot\n",
        "plt.scatter(X, Y)\n",
        "plt.show()"
      ]
    },
    {
      "cell_type": "markdown",
      "metadata": {
        "id": "tK3eUia5jftc"
      },
      "source": [
        "All the points are close by and not scattered hence we can clearly observe a linear relationship between the variables."
      ]
    },
    {
      "cell_type": "markdown",
      "metadata": {
        "id": "0eVf5M51jftc"
      },
      "source": [
        "### Fitting of Dataset different ways by changing the parameters"
      ]
    },
    {
      "cell_type": "code",
      "execution_count": null,
      "metadata": {
        "id": "8Wz0JIYpjftc"
      },
      "outputs": [],
      "source": [
        "# splitting of dataset into train and test\n",
        "X_train, X_test, Y_train, Y_test = train_test_split(X, Y, test_size = 0.25, random_state = 42)\n",
        "# Model formation with default settings\n",
        "lrR = LinearRegression()\n",
        "lrR.fit(X_train, Y_train)\n",
        "# Model formation with scaling mode: \"standard\"\n",
        "lrS = LinearRegression(scale = \"standard\")\n",
        "lrS.fit(X_train, Y_train)\n",
        "# Model formation with scaling mode: \"normal\"\n",
        "lrN = LinearRegression(scale = \"normal\")\n",
        "lrN.fit(X_train, Y_train)\n",
        "# Model formation with update mode: True\n",
        "lrU = LinearRegression(update = True)\n",
        "lrU.fit(X_train, Y_train)\n",
        "# Model formation with no_intercept mode: True\n",
        "lrI = LinearRegression(no_intercept = True)\n",
        "lrI.fit(X_train, Y_train)"
      ]
    },
    {
      "cell_type": "markdown",
      "metadata": {
        "id": "RsC2q9bjjftc"
      },
      "source": [
        "### Prediction and showing difference of accuracy"
      ]
    },
    {
      "cell_type": "code",
      "execution_count": null,
      "metadata": {
        "scrolled": false,
        "id": "zZX04qwEjftc",
        "outputId": "d7d4b012-6e82-4e42-9607-bac1fd8d0856"
      },
      "outputs": [
        {
          "name": "stdout",
          "output_type": "stream",
          "text": [
            "The options chosen for the model are: \n",
            "Scaling Type: none\n",
            "Updation Process: False\n",
            "Excluding Intercept: False\n",
            "\n",
            "Model Equation:\n",
            "y = 0.9801151112844574 x + 0.7573878149240905\n",
            "\n",
            "Accuracy Scores: \n",
            "Covariance value of Model: \n",
            "1349.3153089962093\n",
            "R-squared value of Model: \n",
            "0.9286358312764977\n",
            "RMSE value of Model: \n",
            "10.081209817941854\n",
            "Pearson coefficient value of Model: \n",
            "0.963657528002816\n",
            "\n",
            "Graphical Representation of Model: \n"
          ]
        },
        {
          "data": {
            "image/png": "[encoded data removed]",
            "text/plain": [
              "<Figure size 432x288 with 1 Axes>"
            ]
          },
          "metadata": {
            "needs_background": "light"
          },
          "output_type": "display_data"
        },
        {
          "name": "stdout",
          "output_type": "stream",
          "text": [
            "0.936697419302525\n",
            "The options chosen for the model are: \n",
            "Scaling Type: standard\n",
            "Updation Process: False\n",
            "Excluding Intercept: False\n",
            "\n",
            "Model Equation:\n",
            "y = 43.02049187495957 x + 7.318083710897617\n",
            "\n",
            "Accuracy Scores: \n",
            "Covariance value of Model: \n",
            "28.344917825462396\n",
            "R-squared value of Model: \n",
            "0.8562596475699671\n",
            "RMSE value of Model: \n",
            "14.307438926003044\n",
            "Pearson coefficient value of Model: \n",
            "0.9253429891504916\n",
            "\n",
            "Graphical Representation of Model: \n"
          ]
        },
        {
          "data": {
            "image/png": "[encoded data removed]",
            "text/plain": [
              "<Figure size 432x288 with 1 Axes>"
            ]
          },
          "metadata": {
            "needs_background": "light"
          },
          "output_type": "display_data"
        },
        {
          "name": "stdout",
          "output_type": "stream",
          "text": [
            "-0.09224664377982195\n",
            "The options chosen for the model are: \n",
            "Scaling Type: normal\n",
            "Updation Process: False\n",
            "Excluding Intercept: False\n",
            "\n",
            "Model Equation:\n",
            "y = 996.0546677100938 x + 14.945332289886114\n",
            "\n",
            "Accuracy Scores: \n",
            "Covariance value of Model: \n",
            "0.010256339507439583\n",
            "R-squared value of Model: \n",
            "0.007173489507903752\n",
            "RMSE value of Model: \n",
            "37.60185156063467\n",
            "Pearson coefficient value of Model: \n",
            "0.08469645510825047\n",
            "\n",
            "Graphical Representation of Model: \n"
          ]
        },
        {
          "data": {
            "image/png": "[encoded data removed]",
            "text/plain": [
              "<Figure size 432x288 with 1 Axes>"
            ]
          },
          "metadata": {
            "needs_background": "light"
          },
          "output_type": "display_data"
        },
        {
          "name": "stdout",
          "output_type": "stream",
          "text": [
            "-0.1386030945364214\n",
            "The options chosen for the model are: \n",
            "Scaling Type: none\n",
            "Updation Process: False\n",
            "Excluding Intercept: True\n",
            "\n",
            "Model Equation:\n",
            "y = 0.9870306000583773 x + 0\n",
            "\n",
            "Accuracy Scores: \n",
            "Covariance value of Model: \n",
            "1349.3153089962093\n",
            "R-squared value of Model: \n",
            "0.9282863078988836\n",
            "RMSE value of Model: \n",
            "10.10586725218043\n",
            "Pearson coefficient value of Model: \n",
            "0.963657528002816\n",
            "\n",
            "Graphical Representation of Model: \n"
          ]
        },
        {
          "data": {
            "image/png": "[encoded data removed]",
            "text/plain": [
              "<Figure size 432x288 with 1 Axes>"
            ]
          },
          "metadata": {
            "needs_background": "light"
          },
          "output_type": "display_data"
        },
        {
          "name": "stdout",
          "output_type": "stream",
          "text": [
            "0.9372606170489715\n"
          ]
        }
      ],
      "source": [
        "lrR.summary()\n",
        "y_predR = lrR.predict(X_test)\n",
        "print(r2_score(y_predR, Y_test))\n",
        "\n",
        "lrS.summary()\n",
        "y_predS = lrS.predict(X_test)\n",
        "print(r2_score(y_predS, Y_test))\n",
        "\n",
        "lrN.summary()\n",
        "y_predN = lrN.predict(X_test)\n",
        "print(r2_score(y_predN, Y_test))\n",
        "\n",
        "#lrU.summary()\n",
        "#y_predU = lrU.predict(X_test)\n",
        "#print(r2_score(y_predU, Y_test))\n",
        "\n",
        "lrI.summary()\n",
        "y_predI = lrI.predict(X_test)\n",
        "print(r2_score(y_predI, Y_test))"
      ]
    },
    {
      "cell_type": "markdown",
      "metadata": {
        "id": "yzCIEWUMjftc"
      },
      "source": [
        "When using the parameter of scale for normalization or standardization the accuracy decreases for this dataset hence we should leave it default ie the actual dataset."
      ]
    },
    {
      "cell_type": "code",
      "execution_count": null,
      "metadata": {
        "scrolled": false,
        "id": "tj-ZYMYojftd",
        "outputId": "62c0acda-1a40-4256-d7e9-8eaaca79c1fa"
      },
      "outputs": [
        {
          "name": "stdout",
          "output_type": "stream",
          "text": [
            "The options chosen for the model are: \n",
            "Scaling Type: none\n",
            "Updation Process: False\n",
            "Excluding Intercept: True\n",
            "\n",
            "Model Equation:\n",
            "y = 0.9870306000583773 x + 0\n",
            "\n",
            "Accuracy Scores: \n",
            "Covariance value of Model: \n",
            "1349.3153089962093\n",
            "R-squared value of Model: \n",
            "0.9282863078988836\n",
            "RMSE value of Model: \n",
            "10.10586725218043\n",
            "Pearson coefficient value of Model: \n",
            "0.963657528002816\n",
            "\n",
            "Graphical Representation of Model: \n"
          ]
        },
        {
          "data": {
            "image/png": "[encoded data removed]",
            "text/plain": [
              "<Figure size 432x288 with 1 Axes>"
            ]
          },
          "metadata": {
            "needs_background": "light"
          },
          "output_type": "display_data"
        }
      ],
      "source": [
        "# best model accuracy\n",
        "lr = LinearRegression(scale = \"none\", update = False, no_intercept = True)\n",
        "lr.fit(X_train, Y_train)\n",
        "lr.summary()"
      ]
    },
    {
      "cell_type": "code",
      "execution_count": null,
      "metadata": {
        "scrolled": true,
        "id": "8DX3Sadxjftd"
      },
      "outputs": [],
      "source": [
        "y_pred = lr.predict(X_test)"
      ]
    },
    {
      "cell_type": "code",
      "execution_count": null,
      "metadata": {
        "id": "6_UM4qRPjftd",
        "outputId": "2e9a5d89-fdb4-4c67-e7d4-bd1c264a23c1"
      },
      "outputs": [
        {
          "data": {
            "text/plain": [
              "0.9372606170489715"
            ]
          },
          "execution_count": 11,
          "metadata": {},
          "output_type": "execute_result"
        }
      ],
      "source": [
        "r2_score(y_pred, Y_test)"
      ]
    }
  ],
  "metadata": {
    "kernelspec": {
      "display_name": "Python 3",
      "language": "python",
      "name": "python3"
    },
    "language_info": {
      "codemirror_mode": {
        "name": "ipython",
        "version": 3
      },
      "file_extension": ".py",
      "mimetype": "text/x-python",
      "name": "python",
      "nbconvert_exporter": "python",
      "pygments_lexer": "ipython3",
      "version": "3.8.5"
    },
    "colab": {
      "provenance": [],
      "include_colab_link": true
    }
  },
  "nbformat": 4,
  "nbformat_minor": 0
}